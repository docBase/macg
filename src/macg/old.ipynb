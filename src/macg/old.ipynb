{
 "cells": [
  {
   "cell_type": "code",
   "execution_count": 24,
   "metadata": {
    "collapsed": false
   },
   "outputs": [],
   "source": [
    "%matplotlib inline\n",
    "\n",
    "import matplotlib.pyplot as plt\n",
    "import matplotlib.style as style\n",
    "import numpy as np\n",
    "import pandas as pd\n",
    "\n",
    "#pd.set_option('display.mpl_style', 'default') # Make the graphs a bit prettier\n",
    "style.use('ggplot')\n",
    "plt.rcParams['figure.figsize'] = (15, 5)\n",
    "plt.rcParams['font.family'] = 'sans-serif'\n",
    "\n",
    "# This is necessary to show lots of columns in pandas 0.12. \n",
    "# Not necessary in pandas 0.13.\n",
    "pd.set_option('display.width', 5000) \n",
    "pd.set_option('display.max_columns', 60)\n",
    "\n",
    "DEFAULT_PRECISION = 0.000001\n"
   ]
  },
  {
   "cell_type": "code",
   "execution_count": 25,
   "metadata": {
    "collapsed": false
   },
   "outputs": [],
   "source": [
    "def xo(col, row):\n",
    "    return _xo[str(col)][row]\n",
    "\n",
    "def xor(col, row):\n",
    "    return _xor[str(col)][row]\n",
    "\n",
    "def xr(col, row):\n",
    "    return _xo[str(col)][_xor[str(col)][row]]\n"
   ]
  },
  {
   "cell_type": "code",
   "execution_count": 26,
   "metadata": {
    "collapsed": false
   },
   "outputs": [],
   "source": [
    "def get_I(k, i):\n",
    "    assert k >= 0\n",
    "    assert 1 >= i >= 0\n",
    "    if k == 1:\n",
    "        return i\n",
    "    else:\n",
    "        k = np.float128(k)\n",
    "        i = np.float128(i)\n",
    "        return (pow(k, i) - 1) / (k-1)\n",
    "\n",
    "def get_i(k, I):\n",
    "    assert k >= 0\n",
    "    assert 1 >= I >= 0\n",
    "    if k == 1:\n",
    "        return I\n",
    "    else:\n",
    "        k = np.float128(k)\n",
    "        I = np.float128(I)\n",
    "        return np.log(I * (k - 1) + 1) / np.log(k)\n",
    "\n",
    "def mean_i(df, k, row1, row2, col):\n",
    "    assert k >= 0\n",
    "    k = np.float128(k)\n",
    "    sum_mean_i = np.float128(0)\n",
    "    xi_1 = np.float128(df[str(col)][row1])\n",
    "    xi_2 = np.float128(df[str(col)][row2])\n",
    "    for row_index in range(row1, row2 + 1):\n",
    "        xi = (np.float128(df[str(col)][row_index]) - xi_1) / (xi_2 - xi_1)\n",
    "        mean_i = np.float128((pow(k, xi) - 1) / (k-1))\n",
    "        sum_mean_i += mean_i\n",
    "    return sum_mean_i / (row2 + 1 - row1)\n",
    "\n",
    "def getk50(df, col=None, row1=None, row2=None, precision=DEFAULT_PRECISION):\n",
    "    col = col or df.columns[0]\n",
    "    row1 = row1 or 0\n",
    "    row2 = row2 or len(df) -1\n",
    "    precision = precision or DEFAULT_PRECISION\n",
    "    k1 = np.float128(0.999)\n",
    "    k2 = np.float128(1.001)\n",
    "    precision = np.float128(precision)\n",
    "    mean_i_1 = mean_i(df, k1, row1, row2, col)\n",
    "    mean_i_2 = mean_i(df, k2, row1, row2, col)\n",
    "    if mean_i_1 < mean_i_2:\n",
    "        if mean_i_1 > np.float128(0.5):\n",
    "            k1 = np.float128(0.00000001)\n",
    "            k2 = np.float128(0.99999999)\n",
    "        elif mean_i_2 < np.float128(0.5):\n",
    "            k1 = np.float128(1.00000001)\n",
    "            k2 = np.float128(99999999)\n",
    "        else:\n",
    "            raise Exception(mean_i_1, mean_i_2)\n",
    "    else:\n",
    "        if mean_i_2 > np.float128(0.5):\n",
    "            k1 = np.float128(1.00000001)\n",
    "            k2 = np.float128(99999999)\n",
    "        elif mean_i_1 < np.float128(0.5):\n",
    "            k1 = np.float128(0.00000001)\n",
    "            k2 = np.float128(0.99999999)\n",
    "        else:\n",
    "            raise Exception(mean_i_1, mean_i_2)\n",
    "    mean_i_1 = mean_i(df, k1, row1, row2, col)\n",
    "    mean_i_2 = mean_i(df, k2, row1, row2, col)\n",
    "    while abs(k2 - k1) > precision:\n",
    "        if abs(mean_i_1 - np.float128(0.5)) < precision:\n",
    "            return (k1, mean_i_1, 1)\n",
    "        if abs(mean_i_2 - np.float128(0.5)) < precision:\n",
    "            return (k2, mean_i_2, 2)\n",
    "        k3 = (k1 + k2) / 2\n",
    "        mean_i_3 = mean_i(df, k3, row1, row2, col)\n",
    "        if abs(mean_i_3 - np.float128(0.5)) < precision:\n",
    "            return (k3, mean_i_3, 3)\n",
    "        if mean_i_2 > mean_i_1:\n",
    "            if mean_i_3 > np.float128(0.5):\n",
    "                k2 = k3\n",
    "                mean_i_2 = mean_i_3 \n",
    "            else:\n",
    "                k1 = k3\n",
    "                mean_i_1 = mean_i_3 \n",
    "        else:  \n",
    "            if mean_i_3 > np.float128(0.5):\n",
    "                k1 = k3\n",
    "                mean_i_1 = mean_i_3 \n",
    "            else:\n",
    "                k2 = k3\n",
    "                mean_i_2 = mean_i_3 \n",
    "    return (k3, mean_i_3, 4)\n"
   ]
  },
  {
   "cell_type": "code",
   "execution_count": 27,
   "metadata": {
    "collapsed": false
   },
   "outputs": [],
   "source": [
    "_xo = pd.read_csv('../../data/test_data.tsv', sep=\"\\t\")"
   ]
  },
  {
   "cell_type": "code",
   "execution_count": 28,
   "metadata": {
    "collapsed": false
   },
   "outputs": [],
   "source": [
    "_xor = pd.DataFrame()\n",
    "for col in _xo:\n",
    "    _xor[col] = _xo[col].sort_values(inplace=False).index"
   ]
  },
  {
   "cell_type": "code",
   "execution_count": 29,
   "metadata": {
    "collapsed": false
   },
   "outputs": [],
   "source": [
    "_xr = pd.DataFrame(index=_xo.index, columns=_xo.columns)\n",
    "_xr = _xr.apply(lambda x: [xr(int(col), x.name) for col in _xo.columns], 1)"
   ]
  },
  {
   "cell_type": "code",
   "execution_count": 30,
   "metadata": {
    "collapsed": false,
    "scrolled": true
   },
   "outputs": [
    {
     "data": {
      "text/plain": [
       "6"
      ]
     },
     "execution_count": 30,
     "metadata": {},
     "output_type": "execute_result"
    }
   ],
   "source": [
    "xor(1,3)"
   ]
  },
  {
   "cell_type": "code",
   "execution_count": 31,
   "metadata": {
    "collapsed": false,
    "scrolled": true
   },
   "outputs": [
    {
     "data": {
      "text/plain": [
       "31"
      ]
     },
     "execution_count": 31,
     "metadata": {},
     "output_type": "execute_result"
    }
   ],
   "source": [
    "xo(1,6)"
   ]
  },
  {
   "cell_type": "code",
   "execution_count": 32,
   "metadata": {
    "collapsed": false
   },
   "outputs": [
    {
     "data": {
      "text/plain": [
       "31"
      ]
     },
     "execution_count": 32,
     "metadata": {},
     "output_type": "execute_result"
    }
   ],
   "source": [
    "xr(1,3)"
   ]
  },
  {
   "cell_type": "code",
   "execution_count": 33,
   "metadata": {
    "collapsed": true
   },
   "outputs": [],
   "source": [
    "def xi(col, value):\n",
    "    _min = np.float128(_xr[col].min())\n",
    "    _max = np.float128(_xr[col].max())\n",
    "    return (np.float128(value) - _min) / (_max - _min)"
   ]
  },
  {
   "cell_type": "code",
   "execution_count": 34,
   "metadata": {
    "collapsed": false
   },
   "outputs": [],
   "source": [
    "_xi = pd.DataFrame(index=_xo.index, columns=_xo.columns)\n",
    "_xi = _xr.apply(lambda x: [xi(col, x[col]) for col in _xr.columns], 1)"
   ]
  },
  {
   "cell_type": "code",
   "execution_count": 35,
   "metadata": {
    "collapsed": false,
    "scrolled": true
   },
   "outputs": [
    {
     "data": {
      "text/plain": [
       "(0.054525384275703427433, 0.50000031633723513998, 3)"
      ]
     },
     "execution_count": 35,
     "metadata": {},
     "output_type": "execute_result"
    }
   ],
   "source": [
    "getk50(_xi)"
   ]
  },
  {
   "cell_type": "code",
   "execution_count": 36,
   "metadata": {
    "collapsed": false
   },
   "outputs": [],
   "source": [
    "def get_k_by_quarters(df, num_parts= 4, precision=DEFAULT_PRECISION):\n",
    "    precision = precision or DEFAULT_PRECISION\n",
    "    dfc = df.copy()\n",
    "    #dfc.insert(0, 'ix', dfc.index)\n",
    "    parts = np.array_split(np.array(dfc.index), num_parts)\n",
    "    for part in parts:\n",
    "        row1 = part[0]\n",
    "        row2 = part[-1]\n",
    "        for col in dfc.columns:\n",
    "            value_min = dfc[col][row1]\n",
    "            value_max = dfc[col][row2]\n",
    "            k, mean_i, case = getk50(dfc, col, row1, row2, precision)\n",
    "            for row in range(row1, row2 + 1):\n",
    "                value = dfc[col][row]\n",
    "                dfc[col][row] = transform_value(value, value_min, value_max, k)\n",
    "    #dfc.rename(columns={col: 'xt_' + col for col in dfc.columns}, inplace=True)\n",
    "    return dfc\n",
    "\n",
    "def transform_value(value, value_min, value_max, k):\n",
    "    exponent = (value - value_min) / (value_max - value_min)\n",
    "    return (value_min + ((value_max - value_min) * (pow(k, exponent) - 1) / (k - 1)))"
   ]
  },
  {
   "cell_type": "code",
   "execution_count": 37,
   "metadata": {
    "collapsed": false
   },
   "outputs": [],
   "source": [
    "_xt2 = get_k_by_quarters(_xi, 1)\n",
    "_xt4 = get_k_by_quarters(_xi, 2)\n",
    "_xt5 = get_k_by_quarters(_xi, 3)\n",
    "\n",
    "#_xot = _xo.copy()\n",
    "#for col in _xot.columns:\n",
    "#    _xot['xt_' + col] = np.nan\n",
    "\n",
    "#for ix, row in _xo.iterrows():\n",
    "#    for col in _xo.columns:\n",
    "#        _xot['xt_' + col][xor(int(col), ix)] = df1['xt_' + col][ix]"
   ]
  },
  {
   "cell_type": "code",
   "execution_count": 38,
   "metadata": {
    "collapsed": false
   },
   "outputs": [
    {
     "data": {
      "text/plain": [
       "[<matplotlib.lines.Line2D at 0x7f1646262390>]"
      ]
     },
     "execution_count": 38,
     "metadata": {},
     "output_type": "execute_result"
    },
    {
     "data": {
      "image/png": "[encoded data removed]",
      "text/plain": [
       "<matplotlib.figure.Figure at 0x7f16485c5828>"
      ]
     },
     "metadata": {},
     "output_type": "display_data"
    }
   ],
   "source": [
    "fig1 = plt.figure()\n",
    "fig1.set_size_inches(10,10)\n",
    "ax1 = fig1.add_axes([0, 0, 1, 1])\n",
    "ax1.plot(_xo['0'], _xo['1'], 'ro')\n"
   ]
  },
  {
   "cell_type": "code",
   "execution_count": 39,
   "metadata": {
    "collapsed": false
   },
   "outputs": [
    {
     "data": {
      "text/plain": [
       "[<matplotlib.lines.Line2D at 0x7f16460c95f8>]"
      ]
     },
     "execution_count": 39,
     "metadata": {},
     "output_type": "execute_result"
    },
    {
     "data": {
      "image/png": "[encoded data removed]",
      "text/plain": [
       "<matplotlib.figure.Figure at 0x7f1645fb8978>"
      ]
     },
     "metadata": {},
     "output_type": "display_data"
    }
   ],
   "source": [
    "plt.close('all')\n",
    "fig1, ((sp1, sp2), (sp3, sp4)) = plt.subplots(2, 2)\n",
    "fig1.set_size_inches(10,10)\n",
    "plt.tight_layout()\n",
    "sp1.plot(_xo['0'], _xo['1'], 'ro')\n",
    "sp1.plot([0, 1000], [0, 1000], 'bs-')\n",
    "#sp2.plot([0.0, 0.0], [1.0, 1.0], color='r', linestyle='-', linewidth=2)\n",
    "sp2.plot([0, 1], [0, 1], 'bs-')\n",
    "sp2.plot(_xt2['0'], _xt2['1'], 'ro')\n",
    "sp3.plot([0, 1], [0, 1], 'bs-')\n",
    "sp3.plot(_xt4['0'], _xt4['1'], 'ro')\n",
    "sp4.plot([0, 1], [0, 1], 'bs-')\n",
    "sp4.plot(_xt5['0'], _xt5['1'], 'ro')"
   ]
  },
  {
   "cell_type": "code",
   "execution_count": 40,
   "metadata": {
    "collapsed": false
   },
   "outputs": [
    {
     "name": "stdout",
     "output_type": "stream",
     "text": [
      "0.909227550027998 0.8335629947853341\n",
      "0.931006222271567 0.8709182800389319\n",
      "0.9332035320198221 0.8747718613904915\n",
      "0.9604705259474129 0.9239473722693361\n"
     ]
    }
   ],
   "source": [
    "xts = [_xo, _xt2, _xt4, _xt5]\n",
    "for xt in xts:\n",
    "    xtd = abs(xt['0'] - xt['1'])\n",
    "    xts = abs(xt['0'] + xt['1'] - 1)\n",
    "    print(1 - xtd.sum() / xts.sum(), ((xts.sum() - xtd.sum()) / (xts.sum() + xtd.sum()) ))\n",
    "    "
   ]
  },
  {
   "cell_type": "code",
   "execution_count": 41,
   "metadata": {
    "collapsed": false
   },
   "outputs": [
    {
     "data": {
      "text/plain": [
       "[<matplotlib.lines.Line2D at 0x7f164424b2b0>]"
      ]
     },
     "execution_count": 41,
     "metadata": {},
     "output_type": "execute_result"
    },
    {
     "data": {
      "image/png": "[encoded data removed]",
      "text/plain": [
       "<matplotlib.figure.Figure at 0x7f164607fe48>"
      ]
     },
     "metadata": {},
     "output_type": "display_data"
    }
   ],
   "source": [
    "fig2, ((sp21, sp22), (sp23, sp24)) = plt.subplots(2, 2)\n",
    "fig2.set_size_inches(10,10)\n",
    "plt.tight_layout()\n",
    "sp21.plot(_xo['0'], _xo['1'], 'ro')\n",
    "sp21.plot([0, 1000], [0, 1000], 'bs-')\n",
    "sp22.plot(_xt5['1'], _xo['1'], 'ro')\n",
    "sp23.plot(_xo['0'], _xt5['0'], 'ro')\n",
    "sp24.plot([0, 1], [0, 1], 'bs-')\n",
    "sp24.plot(_xt5['1'], _xt5['0'], 'ro')"
   ]
  },
  {
   "cell_type": "code",
   "execution_count": 42,
   "metadata": {
    "collapsed": false
   },
   "outputs": [
    {
     "data": {
      "text/html": [
       "<div>\n",
       "<table border=\"1\" class=\"dataframe\">\n",
       "  <thead>\n",
       "    <tr style=\"text-align: right;\">\n",
       "      <th></th>\n",
       "      <th>0</th>\n",
       "      <th>1</th>\n",
       "    </tr>\n",
       "  </thead>\n",
       "  <tbody>\n",
       "    <tr>\n",
       "      <th>0</th>\n",
       "      <td>0.000000</td>\n",
       "      <td>0.000000</td>\n",
       "    </tr>\n",
       "    <tr>\n",
       "      <th>1</th>\n",
       "      <td>0.011622</td>\n",
       "      <td>0.005607</td>\n",
       "    </tr>\n",
       "    <tr>\n",
       "      <th>2</th>\n",
       "      <td>0.019738</td>\n",
       "      <td>0.006489</td>\n",
       "    </tr>\n",
       "    <tr>\n",
       "      <th>3</th>\n",
       "      <td>0.022383</td>\n",
       "      <td>0.008521</td>\n",
       "    </tr>\n",
       "    <tr>\n",
       "      <th>4</th>\n",
       "      <td>0.024203</td>\n",
       "      <td>0.012387</td>\n",
       "    </tr>\n",
       "    <tr>\n",
       "      <th>5</th>\n",
       "      <td>0.028963</td>\n",
       "      <td>0.013937</td>\n",
       "    </tr>\n",
       "    <tr>\n",
       "      <th>6</th>\n",
       "      <td>0.029952</td>\n",
       "      <td>0.025643</td>\n",
       "    </tr>\n",
       "    <tr>\n",
       "      <th>7</th>\n",
       "      <td>0.030954</td>\n",
       "      <td>0.027039</td>\n",
       "    </tr>\n",
       "    <tr>\n",
       "      <th>8</th>\n",
       "      <td>0.034038</td>\n",
       "      <td>0.036947</td>\n",
       "    </tr>\n",
       "    <tr>\n",
       "      <th>9</th>\n",
       "      <td>0.036160</td>\n",
       "      <td>0.038887</td>\n",
       "    </tr>\n",
       "    <tr>\n",
       "      <th>10</th>\n",
       "      <td>0.037242</td>\n",
       "      <td>0.040921</td>\n",
       "    </tr>\n",
       "    <tr>\n",
       "      <th>11</th>\n",
       "      <td>0.039448</td>\n",
       "      <td>0.045288</td>\n",
       "    </tr>\n",
       "    <tr>\n",
       "      <th>12</th>\n",
       "      <td>0.051365</td>\n",
       "      <td>0.045288</td>\n",
       "    </tr>\n",
       "    <tr>\n",
       "      <th>13</th>\n",
       "      <td>0.055248</td>\n",
       "      <td>0.055358</td>\n",
       "    </tr>\n",
       "    <tr>\n",
       "      <th>14</th>\n",
       "      <td>0.057921</td>\n",
       "      <td>0.055358</td>\n",
       "    </tr>\n",
       "    <tr>\n",
       "      <th>15</th>\n",
       "      <td>0.063476</td>\n",
       "      <td>0.064257</td>\n",
       "    </tr>\n",
       "    <tr>\n",
       "      <th>16</th>\n",
       "      <td>0.072362</td>\n",
       "      <td>0.064257</td>\n",
       "    </tr>\n",
       "    <tr>\n",
       "      <th>17</th>\n",
       "      <td>0.077387</td>\n",
       "      <td>0.064257</td>\n",
       "    </tr>\n",
       "    <tr>\n",
       "      <th>18</th>\n",
       "      <td>0.084872</td>\n",
       "      <td>0.066633</td>\n",
       "    </tr>\n",
       "    <tr>\n",
       "      <th>19</th>\n",
       "      <td>0.092391</td>\n",
       "      <td>0.066633</td>\n",
       "    </tr>\n",
       "    <tr>\n",
       "      <th>20</th>\n",
       "      <td>0.113249</td>\n",
       "      <td>0.109738</td>\n",
       "    </tr>\n",
       "    <tr>\n",
       "      <th>21</th>\n",
       "      <td>0.118026</td>\n",
       "      <td>0.112689</td>\n",
       "    </tr>\n",
       "    <tr>\n",
       "      <th>22</th>\n",
       "      <td>0.124738</td>\n",
       "      <td>0.131193</td>\n",
       "    </tr>\n",
       "    <tr>\n",
       "      <th>23</th>\n",
       "      <td>0.127623</td>\n",
       "      <td>0.185977</td>\n",
       "    </tr>\n",
       "    <tr>\n",
       "      <th>24</th>\n",
       "      <td>0.228737</td>\n",
       "      <td>0.197867</td>\n",
       "    </tr>\n",
       "    <tr>\n",
       "      <th>25</th>\n",
       "      <td>0.233848</td>\n",
       "      <td>0.210215</td>\n",
       "    </tr>\n",
       "    <tr>\n",
       "      <th>26</th>\n",
       "      <td>0.234873</td>\n",
       "      <td>0.265748</td>\n",
       "    </tr>\n",
       "    <tr>\n",
       "      <th>27</th>\n",
       "      <td>0.235897</td>\n",
       "      <td>0.305557</td>\n",
       "    </tr>\n",
       "    <tr>\n",
       "      <th>28</th>\n",
       "      <td>0.238975</td>\n",
       "      <td>0.324845</td>\n",
       "    </tr>\n",
       "    <tr>\n",
       "      <th>29</th>\n",
       "      <td>0.283675</td>\n",
       "      <td>0.331941</td>\n",
       "    </tr>\n",
       "    <tr>\n",
       "      <th>30</th>\n",
       "      <td>0.304847</td>\n",
       "      <td>0.333374</td>\n",
       "    </tr>\n",
       "    <tr>\n",
       "      <th>31</th>\n",
       "      <td>0.317668</td>\n",
       "      <td>0.333374</td>\n",
       "    </tr>\n",
       "    <tr>\n",
       "      <th>32</th>\n",
       "      <td>0.328420</td>\n",
       "      <td>0.344999</td>\n",
       "    </tr>\n",
       "    <tr>\n",
       "      <th>33</th>\n",
       "      <td>0.331658</td>\n",
       "      <td>0.378514</td>\n",
       "    </tr>\n",
       "    <tr>\n",
       "      <th>34</th>\n",
       "      <td>0.333668</td>\n",
       "      <td>0.378514</td>\n",
       "    </tr>\n",
       "    <tr>\n",
       "      <th>35</th>\n",
       "      <td>0.351708</td>\n",
       "      <td>0.390742</td>\n",
       "    </tr>\n",
       "    <tr>\n",
       "      <th>36</th>\n",
       "      <td>0.351929</td>\n",
       "      <td>0.400173</td>\n",
       "    </tr>\n",
       "    <tr>\n",
       "      <th>37</th>\n",
       "      <td>0.380817</td>\n",
       "      <td>0.480748</td>\n",
       "    </tr>\n",
       "    <tr>\n",
       "      <th>38</th>\n",
       "      <td>0.381913</td>\n",
       "      <td>0.483261</td>\n",
       "    </tr>\n",
       "    <tr>\n",
       "      <th>39</th>\n",
       "      <td>0.509071</td>\n",
       "      <td>0.531224</td>\n",
       "    </tr>\n",
       "    <tr>\n",
       "      <th>40</th>\n",
       "      <td>0.593365</td>\n",
       "      <td>0.578421</td>\n",
       "    </tr>\n",
       "    <tr>\n",
       "      <th>41</th>\n",
       "      <td>0.658951</td>\n",
       "      <td>0.602417</td>\n",
       "    </tr>\n",
       "    <tr>\n",
       "      <th>42</th>\n",
       "      <td>0.710820</td>\n",
       "      <td>0.623678</td>\n",
       "    </tr>\n",
       "    <tr>\n",
       "      <th>43</th>\n",
       "      <td>0.752486</td>\n",
       "      <td>0.777440</td>\n",
       "    </tr>\n",
       "    <tr>\n",
       "      <th>44</th>\n",
       "      <td>0.786533</td>\n",
       "      <td>0.823547</td>\n",
       "    </tr>\n",
       "    <tr>\n",
       "      <th>45</th>\n",
       "      <td>0.803300</td>\n",
       "      <td>0.858731</td>\n",
       "    </tr>\n",
       "    <tr>\n",
       "      <th>46</th>\n",
       "      <td>0.890589</td>\n",
       "      <td>0.900684</td>\n",
       "    </tr>\n",
       "    <tr>\n",
       "      <th>47</th>\n",
       "      <td>0.929051</td>\n",
       "      <td>0.924820</td>\n",
       "    </tr>\n",
       "    <tr>\n",
       "      <th>48</th>\n",
       "      <td>0.935189</td>\n",
       "      <td>0.970871</td>\n",
       "    </tr>\n",
       "    <tr>\n",
       "      <th>49</th>\n",
       "      <td>0.966799</td>\n",
       "      <td>0.992111</td>\n",
       "    </tr>\n",
       "    <tr>\n",
       "      <th>50</th>\n",
       "      <td>1.000000</td>\n",
       "      <td>1.000000</td>\n",
       "    </tr>\n",
       "  </tbody>\n",
       "</table>\n",
       "</div>"
      ],
      "text/plain": [
       "           0         1\n",
       "0   0.000000  0.000000\n",
       "1   0.011622  0.005607\n",
       "2   0.019738  0.006489\n",
       "3   0.022383  0.008521\n",
       "4   0.024203  0.012387\n",
       "5   0.028963  0.013937\n",
       "6   0.029952  0.025643\n",
       "7   0.030954  0.027039\n",
       "8   0.034038  0.036947\n",
       "9   0.036160  0.038887\n",
       "10  0.037242  0.040921\n",
       "11  0.039448  0.045288\n",
       "12  0.051365  0.045288\n",
       "13  0.055248  0.055358\n",
       "14  0.057921  0.055358\n",
       "15  0.063476  0.064257\n",
       "16  0.072362  0.064257\n",
       "17  0.077387  0.064257\n",
       "18  0.084872  0.066633\n",
       "19  0.092391  0.066633\n",
       "20  0.113249  0.109738\n",
       "21  0.118026  0.112689\n",
       "22  0.124738  0.131193\n",
       "23  0.127623  0.185977\n",
       "24  0.228737  0.197867\n",
       "25  0.233848  0.210215\n",
       "26  0.234873  0.265748\n",
       "27  0.235897  0.305557\n",
       "28  0.238975  0.324845\n",
       "29  0.283675  0.331941\n",
       "30  0.304847  0.333374\n",
       "31  0.317668  0.333374\n",
       "32  0.328420  0.344999\n",
       "33  0.331658  0.378514\n",
       "34  0.333668  0.378514\n",
       "35  0.351708  0.390742\n",
       "36  0.351929  0.400173\n",
       "37  0.380817  0.480748\n",
       "38  0.381913  0.483261\n",
       "39  0.509071  0.531224\n",
       "40  0.593365  0.578421\n",
       "41  0.658951  0.602417\n",
       "42  0.710820  0.623678\n",
       "43  0.752486  0.777440\n",
       "44  0.786533  0.823547\n",
       "45  0.803300  0.858731\n",
       "46  0.890589  0.900684\n",
       "47  0.929051  0.924820\n",
       "48  0.935189  0.970871\n",
       "49  0.966799  0.992111\n",
       "50  1.000000  1.000000"
      ]
     },
     "execution_count": 42,
     "metadata": {},
     "output_type": "execute_result"
    }
   ],
   "source": [
    "xt"
   ]
  },
  {
   "cell_type": "code",
   "execution_count": null,
   "metadata": {
    "collapsed": true
   },
   "outputs": [],
   "source": []
  }
 ],
 "metadata": {
  "kernelspec": {
   "display_name": "Python 3",
   "language": "python",
   "name": "python3"
  },
  "language_info": {
   "codemirror_mode": {
    "name": "ipython",
    "version": 3
   },
   "file_extension": ".py",
   "mimetype": "text/x-python",
   "name": "python",
   "nbconvert_exporter": "python",
   "pygments_lexer": "ipython3",
   "version": "3.5.1"
  }
 },
 "nbformat": 4,
 "nbformat_minor": 0
}
